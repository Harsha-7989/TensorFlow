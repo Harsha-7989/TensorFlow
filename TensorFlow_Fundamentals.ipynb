{
  "nbformat": 4,
  "nbformat_minor": 0,
  "metadata": {
    "colab": {
      "provenance": [],
      "authorship_tag": "ABX9TyMz8hwMcDsrkOED4RCxyCG4",
      "include_colab_link": true
    },
    "kernelspec": {
      "name": "python3",
      "display_name": "Python 3"
    },
    "language_info": {
      "name": "python"
    }
  },
  "cells": [
    {
      "cell_type": "markdown",
      "metadata": {
        "id": "view-in-github",
        "colab_type": "text"
      },
      "source": [
        "<a href=\"https://colab.research.google.com/github/Harsha-7989/TensorFlow/blob/main/TensorFlow_Fundamentals.ipynb\" target=\"_parent\"><img src=\"https://colab.research.google.com/assets/colab-badge.svg\" alt=\"Open In Colab\"/></a>"
      ]
    },
    {
      "cell_type": "markdown",
      "source": [
        "  Introduction to Tensors\n",
        "  * Getting infromation to tensors\n",
        "  *  Manipulating tensors\n",
        "  *  Tensors and Numpy\n",
        "  * Using @tf.function (a way to speed up your regular python functions)\n",
        "  * Using GPUs with Tensorflow (OR TPUs)\n"
      ],
      "metadata": {
        "id": "yLXhTABtXekZ"
      }
    },
    {
      "cell_type": "markdown",
      "source": [
        "#**Introduction** to Tensors"
      ],
      "metadata": {
        "id": "xVM5MKAuYQI4"
      }
    },
    {
      "cell_type": "code",
      "source": [
        "# Import TensorFlow\n",
        "import tensorflow as tf\n",
        "print(tf.__version__)"
      ],
      "metadata": {
        "colab": {
          "base_uri": "https://localhost:8080/"
        },
        "id": "-Wc6mSIJXD3Y",
        "outputId": "ab4ae6c2-6a86-4b3c-fc9d-eb4a2ecd51e7"
      },
      "execution_count": 2,
      "outputs": [
        {
          "output_type": "stream",
          "name": "stdout",
          "text": [
            "2.17.0\n"
          ]
        }
      ]
    },
    {
      "cell_type": "code",
      "source": [
        "# Creating the Tensors with tf.constant()\n",
        "scalar = tf.constant(7)\n",
        "scalar"
      ],
      "metadata": {
        "colab": {
          "base_uri": "https://localhost:8080/"
        },
        "id": "7CtsdCg3YmQf",
        "outputId": "cea2bf4f-d9eb-4f10-ac0d-3477601d6ae4"
      },
      "execution_count": 3,
      "outputs": [
        {
          "output_type": "execute_result",
          "data": {
            "text/plain": [
              "<tf.Tensor: shape=(), dtype=int32, numpy=7>"
            ]
          },
          "metadata": {},
          "execution_count": 3
        }
      ]
    },
    {
      "cell_type": "code",
      "source": [
        " # check the dimensions of tensor\n",
        "\n",
        " scalar.ndim"
      ],
      "metadata": {
        "colab": {
          "base_uri": "https://localhost:8080/"
        },
        "id": "JI0V8pBSZBQN",
        "outputId": "97dc47bf-9c2e-4134-ab74-12d069901591"
      },
      "execution_count": 4,
      "outputs": [
        {
          "output_type": "execute_result",
          "data": {
            "text/plain": [
              "0"
            ]
          },
          "metadata": {},
          "execution_count": 4
        }
      ]
    },
    {
      "cell_type": "code",
      "source": [
        " # create a vector\n",
        " vector = tf.constant([10, 10])\n",
        " vector"
      ],
      "metadata": {
        "colab": {
          "base_uri": "https://localhost:8080/"
        },
        "id": "onr-QMaLbabu",
        "outputId": "cf38b5c5-4b8e-4d75-8a3a-4d3334b8d03e"
      },
      "execution_count": 5,
      "outputs": [
        {
          "output_type": "execute_result",
          "data": {
            "text/plain": [
              "<tf.Tensor: shape=(2,), dtype=int32, numpy=array([10, 10], dtype=int32)>"
            ]
          },
          "metadata": {},
          "execution_count": 5
        }
      ]
    },
    {
      "cell_type": "code",
      "source": [
        "# check the dim of vector\n",
        "vector.ndim"
      ],
      "metadata": {
        "colab": {
          "base_uri": "https://localhost:8080/"
        },
        "id": "VUPiRQJ8bsMB",
        "outputId": "fdde8639-39f2-4e13-809e-c477458b9ab7"
      },
      "execution_count": 6,
      "outputs": [
        {
          "output_type": "execute_result",
          "data": {
            "text/plain": [
              "1"
            ]
          },
          "metadata": {},
          "execution_count": 6
        }
      ]
    },
    {
      "cell_type": "code",
      "source": [
        "# create a Matrix\n",
        "matrix = tf.constant([[10,10],\n",
        "                      [10, 7]])\n",
        "matrix"
      ],
      "metadata": {
        "colab": {
          "base_uri": "https://localhost:8080/"
        },
        "id": "1Fd8p-2HdK-C",
        "outputId": "62d73411-99c9-4e1a-add3-d6ceaf38dd51"
      },
      "execution_count": 7,
      "outputs": [
        {
          "output_type": "execute_result",
          "data": {
            "text/plain": [
              "<tf.Tensor: shape=(2, 2), dtype=int32, numpy=\n",
              "array([[10, 10],\n",
              "       [10,  7]], dtype=int32)>"
            ]
          },
          "metadata": {},
          "execution_count": 7
        }
      ]
    },
    {
      "cell_type": "code",
      "source": [
        "  matrix.ndim"
      ],
      "metadata": {
        "colab": {
          "base_uri": "https://localhost:8080/"
        },
        "id": "8-qfjwhAdhwx",
        "outputId": "a6f6f809-c69d-4ce9-efa9-64e5e4d3a40c"
      },
      "execution_count": 8,
      "outputs": [
        {
          "output_type": "execute_result",
          "data": {
            "text/plain": [
              "2"
            ]
          },
          "metadata": {},
          "execution_count": 8
        }
      ]
    },
    {
      "cell_type": "code",
      "source": [
        "# create other matrix with fixed dtype\n",
        "other_matrix = tf.constant([[1, 2, 3], [4, 5, 6]], dtype=tf.float16) # specify the dtype param\n",
        "other_matrix"
      ],
      "metadata": {
        "colab": {
          "base_uri": "https://localhost:8080/"
        },
        "id": "3eR4cwradrJv",
        "outputId": "82870177-7360-4c8a-85e5-8d2927d539c8"
      },
      "execution_count": 9,
      "outputs": [
        {
          "output_type": "execute_result",
          "data": {
            "text/plain": [
              "<tf.Tensor: shape=(2, 3), dtype=float16, numpy=\n",
              "array([[1., 2., 3.],\n",
              "       [4., 5., 6.]], dtype=float16)>"
            ]
          },
          "metadata": {},
          "execution_count": 9
        }
      ]
    },
    {
      "cell_type": "code",
      "source": [
        "# dim of other matrix\n",
        "other_matrix.ndim"
      ],
      "metadata": {
        "colab": {
          "base_uri": "https://localhost:8080/"
        },
        "id": "7SuGmgZreGxA",
        "outputId": "983b9e51-17ad-49ca-dc79-bea57a02d028"
      },
      "execution_count": 10,
      "outputs": [
        {
          "output_type": "execute_result",
          "data": {
            "text/plain": [
              "2"
            ]
          },
          "metadata": {},
          "execution_count": 10
        }
      ]
    },
    {
      "cell_type": "code",
      "source": [
        "# Let's create a dimension\n",
        "\n",
        "tensor = tf.constant([[[1, 2, 3, ], [4, 5, 6]],\n",
        "                      [[6, 7, 8], [9, 8, 7]],\n",
        "                      [[10, 11, 12], [13, 14, 15]]])\n",
        "tensor"
      ],
      "metadata": {
        "colab": {
          "base_uri": "https://localhost:8080/"
        },
        "id": "-STHvOfAed-7",
        "outputId": "9fc4c762-3068-459c-8de4-eaa9c1f732aa"
      },
      "execution_count": 11,
      "outputs": [
        {
          "output_type": "execute_result",
          "data": {
            "text/plain": [
              "<tf.Tensor: shape=(3, 2, 3), dtype=int32, numpy=\n",
              "array([[[ 1,  2,  3],\n",
              "        [ 4,  5,  6]],\n",
              "\n",
              "       [[ 6,  7,  8],\n",
              "        [ 9,  8,  7]],\n",
              "\n",
              "       [[10, 11, 12],\n",
              "        [13, 14, 15]]], dtype=int32)>"
            ]
          },
          "metadata": {},
          "execution_count": 11
        }
      ]
    },
    {
      "cell_type": "code",
      "source": [
        "# dim of tensor\n",
        "tensor.ndim"
      ],
      "metadata": {
        "colab": {
          "base_uri": "https://localhost:8080/"
        },
        "id": "sXJ-bWU_fLj4",
        "outputId": "44a25750-609b-42f6-cc77-04876b1d39c7"
      },
      "execution_count": 12,
      "outputs": [
        {
          "output_type": "execute_result",
          "data": {
            "text/plain": [
              "3"
            ]
          },
          "metadata": {},
          "execution_count": 12
        }
      ]
    },
    {
      "cell_type": "markdown",
      "source": [
        "Whats learnt so far\n",
        "* Scalar: a single number\n",
        "* Vector: a number with the direction\n",
        "* Matrix : a 2-dim array of numbers\n",
        "* Tensor: an n-dimensional array of numbers (0- dimensional tensor is Scalar, 1- dim tensor is vector)"
      ],
      "metadata": {
        "id": "8qvG5-fhfopn"
      }
    },
    {
      "cell_type": "markdown",
      "source": [
        "# Creating tensors with tf.variable()"
      ],
      "metadata": {
        "id": "9ag_QvSlhNDN"
      }
    },
    {
      "cell_type": "code",
      "source": [
        "# create the same tensor as above\n",
        "\n",
        "changable_tensor = tf.Variable([10, 9])\n",
        "unchangable_tensor = tf.constant([10, 9])\n",
        "changable_tensor, unchangable_tensor"
      ],
      "metadata": {
        "colab": {
          "base_uri": "https://localhost:8080/"
        },
        "id": "T29wBrjZxFQc",
        "outputId": "6951447a-a58b-475d-9a44-9c05e35e7257"
      },
      "execution_count": 14,
      "outputs": [
        {
          "output_type": "execute_result",
          "data": {
            "text/plain": [
              "(<tf.Variable 'Variable:0' shape=(2,) dtype=int32, numpy=array([10,  9], dtype=int32)>,\n",
              " <tf.Tensor: shape=(2,), dtype=int32, numpy=array([10,  9], dtype=int32)>)"
            ]
          },
          "metadata": {},
          "execution_count": 14
        }
      ]
    },
    {
      "cell_type": "code",
      "source": [
        "# lets change one of the elemnts in changable tensor\n",
        "changable_tensor[0].assign(9)\n",
        "changable_tensor"
      ],
      "metadata": {
        "colab": {
          "base_uri": "https://localhost:8080/"
        },
        "id": "YDieV6jIxbMH",
        "outputId": "c93379f9-6b38-4bed-e11f-4b54ea6fadbd"
      },
      "execution_count": 20,
      "outputs": [
        {
          "output_type": "execute_result",
          "data": {
            "text/plain": [
              "<tf.Variable 'Variable:0' shape=(2,) dtype=int32, numpy=array([9, 9], dtype=int32)>"
            ]
          },
          "metadata": {},
          "execution_count": 20
        }
      ]
    },
    {
      "cell_type": "code",
      "source": [
        "# lets change one of the elemnts in unchangable tensor\n",
        "# unchangable_tensor[0].assign(9)\n",
        "# unchangable_tensor\n",
        "# output : AttributeError: 'tensorflow.python.framework.ops.EagerTensor' object has no attribute 'assign'"
      ],
      "metadata": {
        "id": "n_5Mqu73yG0R"
      },
      "execution_count": 21,
      "outputs": []
    },
    {
      "cell_type": "markdown",
      "source": [
        "# Creating Random Tensors"
      ],
      "metadata": {
        "id": "iJOWCDlpzJOw"
      }
    },
    {
      "cell_type": "markdown",
      "source": [
        " Random Tensors are tensors of some arbitary constants which contain the random numbers"
      ],
      "metadata": {
        "id": "XJ_2-nQgzz6x"
      }
    },
    {
      "cell_type": "code",
      "source": [
        " # create a two random(but the same) tensors\n",
        " random_1 = tf.random.Generator.from_seed(8) # set seed for reproducibility\n",
        " random_1 = random_1.normal(shape=(3, 2))\n",
        " random_1"
      ],
      "metadata": {
        "colab": {
          "base_uri": "https://localhost:8080/"
        },
        "id": "jQuxp_QxyPN2",
        "outputId": "8f692237-0494-49a1-d955-2bb6047f3bb0"
      },
      "execution_count": 26,
      "outputs": [
        {
          "output_type": "execute_result",
          "data": {
            "text/plain": [
              "<tf.Tensor: shape=(3, 2), dtype=float32, numpy=\n",
              "array([[ 0.69211644,  0.84215707],\n",
              "       [-0.06378496,  0.92800784],\n",
              "       [-0.6039789 , -0.1766927 ]], dtype=float32)>"
            ]
          },
          "metadata": {},
          "execution_count": 26
        }
      ]
    },
    {
      "cell_type": "code",
      "source": [
        "random_2 = tf.random.Generator.from_seed(8) # set seed for reproducibility\n",
        "random_2 = random_2.normal(shape=(3, 2))\n",
        "random_2"
      ],
      "metadata": {
        "colab": {
          "base_uri": "https://localhost:8080/"
        },
        "id": "nht77aPr1U7n",
        "outputId": "201c39f7-3550-480c-90c7-85f4e15f9108"
      },
      "execution_count": 27,
      "outputs": [
        {
          "output_type": "execute_result",
          "data": {
            "text/plain": [
              "<tf.Tensor: shape=(3, 2), dtype=float32, numpy=\n",
              "array([[ 0.69211644,  0.84215707],\n",
              "       [-0.06378496,  0.92800784],\n",
              "       [-0.6039789 , -0.1766927 ]], dtype=float32)>"
            ]
          },
          "metadata": {},
          "execution_count": 27
        }
      ]
    },
    {
      "cell_type": "code",
      "source": [
        "# are these equal\n",
        "random_1 == random_2"
      ],
      "metadata": {
        "colab": {
          "base_uri": "https://localhost:8080/"
        },
        "id": "fg4wo-AR2a5d",
        "outputId": "6e8aff60-abd5-43f9-f68a-61a1c2df7b3c"
      },
      "execution_count": 28,
      "outputs": [
        {
          "output_type": "execute_result",
          "data": {
            "text/plain": [
              "<tf.Tensor: shape=(3, 2), dtype=bool, numpy=\n",
              "array([[ True,  True],\n",
              "       [ True,  True],\n",
              "       [ True,  True]])>"
            ]
          },
          "metadata": {},
          "execution_count": 28
        }
      ]
    },
    {
      "cell_type": "code",
      "source": [],
      "metadata": {
        "id": "QhsRWGvb2nbb"
      },
      "execution_count": null,
      "outputs": []
    },
    {
      "cell_type": "markdown",
      "source": [
        "## shuffle the order of elements in a tensor"
      ],
      "metadata": {
        "id": "juxbFJYJ3krL"
      }
    },
    {
      "cell_type": "code",
      "source": [
        "# shuffle a tensor(when you want to shuffle your data so your inherent order doesnt effect learning )\n",
        "not_shuffled = tf.constant([[10, 7],\n",
        "                            [3, 4],\n",
        "                            [2, 5]])\n",
        "not_shuffled.ndim, not_shuffled"
      ],
      "metadata": {
        "colab": {
          "base_uri": "https://localhost:8080/"
        },
        "id": "Rswp6Rn14krH",
        "outputId": "54eb816c-f6b2-44f0-f7e8-38ed6f3bfe5a"
      },
      "execution_count": 31,
      "outputs": [
        {
          "output_type": "execute_result",
          "data": {
            "text/plain": [
              "(2,\n",
              " <tf.Tensor: shape=(3, 2), dtype=int32, numpy=\n",
              " array([[10,  7],\n",
              "        [ 3,  4],\n",
              "        [ 2,  5]], dtype=int32)>)"
            ]
          },
          "metadata": {},
          "execution_count": 31
        }
      ]
    },
    {
      "cell_type": "code",
      "source": [
        "# shuffle a non_suffled tensor\n",
        "\n",
        "tf.random.shuffle(not_shuffled)\n",
        "\n",
        "# it randomly shuffles the tensor along the first dimension"
      ],
      "metadata": {
        "colab": {
          "base_uri": "https://localhost:8080/"
        },
        "id": "FG_C-0k_4qND",
        "outputId": "663a6408-bbcb-48d4-f237-9a1941cc54ad"
      },
      "execution_count": 33,
      "outputs": [
        {
          "output_type": "execute_result",
          "data": {
            "text/plain": [
              "<tf.Tensor: shape=(3, 2), dtype=int32, numpy=\n",
              "array([[ 2,  5],\n",
              "       [10,  7],\n",
              "       [ 3,  4]], dtype=int32)>"
            ]
          },
          "metadata": {},
          "execution_count": 33
        }
      ]
    },
    {
      "cell_type": "code",
      "source": [
        "tf.random.shuffle(not_shuffled, seed = 42) # operational level seed"
      ],
      "metadata": {
        "colab": {
          "base_uri": "https://localhost:8080/"
        },
        "id": "u4qT14pd5rXD",
        "outputId": "21c83c53-440a-4525-ea09-0a9ce5de2309"
      },
      "execution_count": 49,
      "outputs": [
        {
          "output_type": "execute_result",
          "data": {
            "text/plain": [
              "<tf.Tensor: shape=(3, 2), dtype=int32, numpy=\n",
              "array([[ 3,  4],\n",
              "       [ 2,  5],\n",
              "       [10,  7]], dtype=int32)>"
            ]
          },
          "metadata": {},
          "execution_count": 49
        }
      ]
    },
    {
      "cell_type": "code",
      "source": [
        "# to get the same order again and again\n",
        "tf.random.set_seed(42)#global seee\n",
        "tf.random.shuffle(not_shuffled, seed = 42)"
      ],
      "metadata": {
        "colab": {
          "base_uri": "https://localhost:8080/"
        },
        "id": "4ZEB4mgz57Yr",
        "outputId": "97a95179-ca53-4aa2-f9e2-a24ebc4b82ab"
      },
      "execution_count": 51,
      "outputs": [
        {
          "output_type": "execute_result",
          "data": {
            "text/plain": [
              "<tf.Tensor: shape=(3, 2), dtype=int32, numpy=\n",
              "array([[10,  7],\n",
              "       [ 3,  4],\n",
              "       [ 2,  5]], dtype=int32)>"
            ]
          },
          "metadata": {},
          "execution_count": 51
        }
      ]
    },
    {
      "cell_type": "code",
      "source": [
        ""
      ],
      "metadata": {
        "id": "IqnzTlQG6iWF"
      },
      "execution_count": 50,
      "outputs": []
    }
  ]
}